{
 "cells": [
  {
   "cell_type": "markdown",
   "metadata": {},
   "source": [
    "### 자동차 등록 자료 통계 xlsx -> 필요부문 추출 후csv 변환"
   ]
  },
  {
   "cell_type": "code",
   "execution_count": 5,
   "metadata": {},
   "outputs": [],
   "source": [
    "# 라이브러리 추가\n",
    "import os\n",
    "import pandas as pd"
   ]
  },
  {
   "cell_type": "markdown",
   "metadata": {},
   "source": [
    "### data 중, 자동차 등록 자료 통계 xlsx 만 선별후 한글 이름 변경"
   ]
  },
  {
   "cell_type": "code",
   "execution_count": 6,
   "metadata": {},
   "outputs": [],
   "source": [
    "path = \"./data\"\n",
    "file_list = os.listdir(path)\n",
    "car_file_list = [file for file in file_list if file.endswith('자동차_등록자료_통계.xlsx')]"
   ]
  },
  {
   "cell_type": "code",
   "execution_count": 7,
   "metadata": {},
   "outputs": [],
   "source": [
    "for car_file in car_file_list:\n",
    "    src = os.path.join(path, car_file)\n",
    "    chg_name = car_file.split('_')[0][0:4] + '_' + car_file.split('_')[1][0:-1] + '_' + 'Car_Info' + '.xlsx'\n",
    "    dst = os.path.join(path, chg_name)\n",
    "    os.rename(src, dst)"
   ]
  },
  {
   "cell_type": "code",
   "execution_count": 8,
   "metadata": {},
   "outputs": [],
   "source": [
    "file_list = os.listdir(path)\n",
    "car_file_list = [file for file in file_list if file.endswith('Car_Info.xlsx')]"
   ]
  },
  {
   "cell_type": "code",
   "execution_count": 9,
   "metadata": {},
   "outputs": [
    {
     "name": "stdout",
     "output_type": "stream",
     "text": [
      "['2020_01_Car_Info.xlsx', '2020_02_Car_Info.xlsx', '2020_03_Car_Info.xlsx', '2020_04_Car_Info.xlsx', '2020_05_Car_Info.xlsx', '2020_06_Car_Info.xlsx', '2020_07_Car_Info.xlsx', '2020_08_Car_Info.xlsx', '2020_09_Car_Info.xlsx', '2020_10_Car_Info.xlsx']\n"
     ]
    }
   ],
   "source": [
    "print(car_file_list)"
   ]
  },
  {
   "cell_type": "markdown",
   "metadata": {},
   "source": [
    "### excel 파일을 읽기 위해 작업 실시\n",
    "\n",
    "!pip3 install xlrd\n",
    "!pip3 install openpyxl"
   ]
  },
  {
   "cell_type": "markdown",
   "metadata": {},
   "source": [
    "### 1. 전처리 작업 실시"
   ]
  },
  {
   "cell_type": "code",
   "execution_count": 128,
   "metadata": {},
   "outputs": [],
   "source": [
    "# 각 파일을 1개씩 불러와 전처리 실시 \n",
    "count = 0\n",
    "for car_file in car_file_list:\n",
    "    \n",
    "    target_file = os.path.join(path, car_file)\n",
    "    df = pd.read_excel(target_file, engine='openpyxl', sheet_name=\"10.연료별_등록현황\", header = 2)\n",
    "    df = df.rename(columns={'Unnamed: 2' : '합계'}) # 합계의 경우, 해당 줄에 컬럼명이 없어 추가 함 \n",
    "    \n",
    "    if count == 0:\n",
    "        tmp_df = pd.DataFrame(columns=df.columns)    # 최종 전처리 프레임\n",
    "    \n",
    "    # 소계인 데이터만 추출 (업무용 / 비업무용 등은 제거)\n",
    "    for i in range(1, len(df) - 17, 17):\n",
    "        tmp = df[i:i+17].fillna(method='pad')[-1:]\n",
    "        tmp_df = pd.concat([tmp_df, tmp])\n",
    "        \n",
    "    # 소계 중 한대도 없는 차량의 경우 제거 \n",
    "    tmp_df = tmp_df[tmp_df['계'] != 0.0]\n",
    "    \n",
    "    # 불필요한 행 제거 \n",
    "    tmp_df = tmp_df.drop('Unnamed: 21', axis=1)\n",
    "    \n",
    "    # 친환경 차량 구분을 위한 항목 추가 \n",
    "    tmp_lst = list()\n",
    "    for tmp in tmp_df.연료별:\n",
    "        if (tmp.find('수소') != -1 ) | (tmp.find('전기') != -1):\n",
    "            tmp_lst.append('친환경')\n",
    "        else : \n",
    "            tmp_lst.append('비친환경')\n",
    "\n",
    "    tmp_df['친환경'] = tmp_lst\n",
    "    \n",
    "    count += 1\n",
    "\n",
    "#csv 형태로 변환 저장 [한글 깨짐 방지를 위해 utf-8 설정]\n",
    "tmp_df.to_csv(target_file.replace('.xlsx', '.csv'),mode = 'w',encoding='utf-8-sig')"
   ]
  }
 ],
 "metadata": {
  "kernelspec": {
   "display_name": "Python 3",
   "language": "python",
   "name": "python3"
  },
  "language_info": {
   "codemirror_mode": {
    "name": "ipython",
    "version": 3
   },
   "file_extension": ".py",
   "mimetype": "text/x-python",
   "name": "python",
   "nbconvert_exporter": "python",
   "pygments_lexer": "ipython3",
   "version": "3.9.0"
  }
 },
 "nbformat": 4,
 "nbformat_minor": 4
}
